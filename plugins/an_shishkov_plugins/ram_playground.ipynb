{
 "cells": [
  {
   "cell_type": "code",
   "execution_count": 1,
   "id": "aa5a023b-c0af-4403-9f5f-baf1d30787fe",
   "metadata": {},
   "outputs": [],
   "source": [
    "import requests\n",
    "import logging\n",
    "import pandas as pd"
   ]
  },
  {
   "cell_type": "code",
   "execution_count": 2,
   "id": "5ebd3b0c-c8e5-494e-a000-c131046a109a",
   "metadata": {},
   "outputs": [],
   "source": [
    "r = requests.get('https://rickandmortyapi.com/api/location/?page=1')"
   ]
  },
  {
   "cell_type": "code",
   "execution_count": 3,
   "id": "4f4c4b8a-c18c-465c-b6b4-92489beb9689",
   "metadata": {},
   "outputs": [
    {
     "data": {
      "text/plain": [
       "{'count': 126,\n",
       " 'pages': 7,\n",
       " 'next': 'https://rickandmortyapi.com/api/location/?page=2',\n",
       " 'prev': None}"
      ]
     },
     "execution_count": 3,
     "metadata": {},
     "output_type": "execute_result"
    }
   ],
   "source": [
    "r.json()['info']"
   ]
  },
  {
   "cell_type": "code",
   "execution_count": 4,
   "id": "5f1341fd-b9a8-4cd5-bdf4-df3b2659108a",
   "metadata": {},
   "outputs": [
    {
     "data": {
      "text/plain": [
       "{'id': 1,\n",
       " 'name': 'Earth (C-137)',\n",
       " 'type': 'Planet',\n",
       " 'dimension': 'Dimension C-137',\n",
       " 'residents': ['https://rickandmortyapi.com/api/character/38',\n",
       "  'https://rickandmortyapi.com/api/character/45',\n",
       "  'https://rickandmortyapi.com/api/character/71',\n",
       "  'https://rickandmortyapi.com/api/character/82',\n",
       "  'https://rickandmortyapi.com/api/character/83',\n",
       "  'https://rickandmortyapi.com/api/character/92',\n",
       "  'https://rickandmortyapi.com/api/character/112',\n",
       "  'https://rickandmortyapi.com/api/character/114',\n",
       "  'https://rickandmortyapi.com/api/character/116',\n",
       "  'https://rickandmortyapi.com/api/character/117',\n",
       "  'https://rickandmortyapi.com/api/character/120',\n",
       "  'https://rickandmortyapi.com/api/character/127',\n",
       "  'https://rickandmortyapi.com/api/character/155',\n",
       "  'https://rickandmortyapi.com/api/character/169',\n",
       "  'https://rickandmortyapi.com/api/character/175',\n",
       "  'https://rickandmortyapi.com/api/character/179',\n",
       "  'https://rickandmortyapi.com/api/character/186',\n",
       "  'https://rickandmortyapi.com/api/character/201',\n",
       "  'https://rickandmortyapi.com/api/character/216',\n",
       "  'https://rickandmortyapi.com/api/character/239',\n",
       "  'https://rickandmortyapi.com/api/character/271',\n",
       "  'https://rickandmortyapi.com/api/character/302',\n",
       "  'https://rickandmortyapi.com/api/character/303',\n",
       "  'https://rickandmortyapi.com/api/character/338',\n",
       "  'https://rickandmortyapi.com/api/character/343',\n",
       "  'https://rickandmortyapi.com/api/character/356',\n",
       "  'https://rickandmortyapi.com/api/character/394'],\n",
       " 'url': 'https://rickandmortyapi.com/api/location/1',\n",
       " 'created': '2017-11-10T12:42:04.162Z'}"
      ]
     },
     "execution_count": 4,
     "metadata": {},
     "output_type": "execute_result"
    }
   ],
   "source": [
    "r.json()['results'][0]"
   ]
  },
  {
   "cell_type": "code",
   "execution_count": 5,
   "id": "191a3c67-7e52-49d4-9da5-18dd89b44c86",
   "metadata": {},
   "outputs": [
    {
     "data": {
      "text/plain": [
       "7"
      ]
     },
     "execution_count": 5,
     "metadata": {},
     "output_type": "execute_result"
    }
   ],
   "source": [
    "r.json()['info']['pages']"
   ]
  },
  {
   "cell_type": "code",
   "execution_count": 6,
   "id": "8596b8e4-f706-4248-8aaa-125a4b5280ff",
   "metadata": {},
   "outputs": [],
   "source": [
    "def get_page_count(ram_api_url):\n",
    "    '''\n",
    "    Get page count in RAM\n",
    "    :param ram_api_url\n",
    "    :return ram_page_count\n",
    "    '''\n",
    "    r = requests.get(ram_api_url)\n",
    "    if r.status_code == 200:\n",
    "        ram_page_count = r.json()['info']['pages']\n",
    "        logging.info('SUCCESS')\n",
    "        logging.info(f'ram_page_count = {ram_page_count}')\n",
    "        return ram_page_count\n",
    "    else:\n",
    "        logging.warning(f'HTTP STATUS {r.status_code}')\n",
    "        # raise AirflowException('Error in load page count')"
   ]
  },
  {
   "cell_type": "code",
   "execution_count": 7,
   "id": "709af325-32be-4aff-a177-bf021a79d1e1",
   "metadata": {},
   "outputs": [
    {
     "data": {
      "text/plain": [
       "7"
      ]
     },
     "execution_count": 7,
     "metadata": {},
     "output_type": "execute_result"
    }
   ],
   "source": [
    "get_page_count('https://rickandmortyapi.com/api/location/?page=1')"
   ]
  },
  {
   "cell_type": "code",
   "execution_count": 8,
   "id": "2e0a6a1f-6459-4767-a33e-2aaa971b163d",
   "metadata": {},
   "outputs": [],
   "source": [
    "def get_location_info(result_json):\n",
    "    lst = list()\n",
    "    for lctn in result_json:\n",
    "        lst.append((lctn['id'], lctn['name'], lctn['type'], lctn['dimension'], len(lctn['residents'])))\n",
    "    return lst"
   ]
  },
  {
   "cell_type": "code",
   "execution_count": 9,
   "id": "6f8b53a1-f817-402c-8f85-bfc0c65712c1",
   "metadata": {},
   "outputs": [
    {
     "data": {
      "text/plain": [
       "[(1, 'Earth (C-137)', 'Planet', 'Dimension C-137', 27),\n",
       " (2, 'Abadango', 'Cluster', 'unknown', 1),\n",
       " (3, 'Citadel of Ricks', 'Space station', 'unknown', 101),\n",
       " (4, \"Worldender's lair\", 'Planet', 'unknown', 9),\n",
       " (5, 'Anatomy Park', 'Microverse', 'Dimension C-137', 11),\n",
       " (6, 'Interdimensional Cable', 'TV', 'unknown', 62),\n",
       " (7, 'Immortality Field Resort', 'Resort', 'unknown', 3),\n",
       " (8, 'Post-Apocalyptic Earth', 'Planet', 'Post-Apocalyptic Dimension', 10),\n",
       " (9, 'Purge Planet', 'Planet', 'Replacement Dimension', 4),\n",
       " (10, 'Venzenulon 7', 'Planet', 'unknown', 1),\n",
       " (11, 'Bepis 9', 'Planet', 'unknown', 1),\n",
       " (12, 'Cronenberg Earth', 'Planet', 'Cronenberg Dimension', 0),\n",
       " (13, 'Nuptia 4', 'Planet', 'unknown', 11),\n",
       " (14, \"Giant's Town\", 'Fantasy town', 'Fantasy Dimension', 3),\n",
       " (15, 'Bird World', 'Planet', 'unknown', 0),\n",
       " (16, 'St. Gloopy Noops Hospital', 'Space station', 'unknown', 9),\n",
       " (17, 'Earth (5-126)', 'Planet', 'Dimension 5-126', 0),\n",
       " (18, \"Mr. Goldenfold's dream\", 'Dream', 'Dimension C-137', 8),\n",
       " (19, 'Gromflom Prime', 'Planet', 'Replacement Dimension', 0),\n",
       " (20, 'Earth (Replacement Dimension)', 'Planet', 'Replacement Dimension', 230)]"
      ]
     },
     "execution_count": 9,
     "metadata": {},
     "output_type": "execute_result"
    }
   ],
   "source": [
    "get_location_info(r.json()['results'])"
   ]
  },
  {
   "cell_type": "code",
   "execution_count": 10,
   "id": "a9e184e1-1c9d-4350-a28a-083029e4c465",
   "metadata": {},
   "outputs": [],
   "source": [
    "first_page_url = 'https://rickandmortyapi.com/api/location/?page=1'"
   ]
  },
  {
   "cell_type": "code",
   "execution_count": 11,
   "id": "f0643469-c653-436e-aded-55816f431754",
   "metadata": {},
   "outputs": [],
   "source": [
    "lctns_lst = list()\n",
    "for pg in range(1, get_page_count(first_page_url) + 1):\n",
    "    rqst = requests.get(f'https://rickandmortyapi.com/api/location/?page={pg}')\n",
    "    if rqst.status_code == 200:\n",
    "        lctns_lst.extend(get_location_info(rqst.json()['results']))\n",
    "    else:\n",
    "        print('failed')"
   ]
  },
  {
   "cell_type": "code",
   "execution_count": 12,
   "id": "56421ed4-7db7-4488-ab13-0ad79063b7ca",
   "metadata": {},
   "outputs": [
    {
     "data": {
      "text/html": [
       "<div>\n",
       "<style scoped>\n",
       "    .dataframe tbody tr th:only-of-type {\n",
       "        vertical-align: middle;\n",
       "    }\n",
       "\n",
       "    .dataframe tbody tr th {\n",
       "        vertical-align: top;\n",
       "    }\n",
       "\n",
       "    .dataframe thead th {\n",
       "        text-align: right;\n",
       "    }\n",
       "</style>\n",
       "<table border=\"1\" class=\"dataframe\">\n",
       "  <thead>\n",
       "    <tr style=\"text-align: right;\">\n",
       "      <th></th>\n",
       "      <th>id</th>\n",
       "      <th>name</th>\n",
       "      <th>type</th>\n",
       "      <th>dimension</th>\n",
       "      <th>resident_cnt</th>\n",
       "    </tr>\n",
       "  </thead>\n",
       "  <tbody>\n",
       "    <tr>\n",
       "      <th>0</th>\n",
       "      <td>20</td>\n",
       "      <td>Earth (Replacement Dimension)</td>\n",
       "      <td>Planet</td>\n",
       "      <td>Replacement Dimension</td>\n",
       "      <td>230</td>\n",
       "    </tr>\n",
       "    <tr>\n",
       "      <th>1</th>\n",
       "      <td>3</td>\n",
       "      <td>Citadel of Ricks</td>\n",
       "      <td>Space station</td>\n",
       "      <td>unknown</td>\n",
       "      <td>101</td>\n",
       "    </tr>\n",
       "    <tr>\n",
       "      <th>2</th>\n",
       "      <td>6</td>\n",
       "      <td>Interdimensional Cable</td>\n",
       "      <td>TV</td>\n",
       "      <td>unknown</td>\n",
       "      <td>62</td>\n",
       "    </tr>\n",
       "  </tbody>\n",
       "</table>\n",
       "</div>"
      ],
      "text/plain": [
       "   id                           name           type              dimension  \\\n",
       "0  20  Earth (Replacement Dimension)         Planet  Replacement Dimension   \n",
       "1   3               Citadel of Ricks  Space station                unknown   \n",
       "2   6         Interdimensional Cable             TV                unknown   \n",
       "\n",
       "   resident_cnt  \n",
       "0           230  \n",
       "1           101  \n",
       "2            62  "
      ]
     },
     "execution_count": 12,
     "metadata": {},
     "output_type": "execute_result"
    }
   ],
   "source": [
    "df = pd.DataFrame(data=lctns_lst, columns=['id', 'name', 'type', 'dimension', 'resident_cnt']).sort_values(by='resident_cnt', ascending=False).reset_index(drop=True).iloc[0:3,:]\n",
    "df"
   ]
  },
  {
   "cell_type": "code",
   "execution_count": 13,
   "id": "b96e791b-0139-4096-8d84-f008b790409a",
   "metadata": {},
   "outputs": [
    {
     "data": {
      "text/plain": [
       "[(20, 'Earth (Replacement Dimension)', 'Planet', 'Replacement Dimension', 230),\n",
       " (3, 'Citadel of Ricks', 'Space station', 'unknown', 101),\n",
       " (6, 'Interdimensional Cable', 'TV', 'unknown', 62)]"
      ]
     },
     "execution_count": 13,
     "metadata": {},
     "output_type": "execute_result"
    }
   ],
   "source": [
    "list(df.itertuples(index=False, name=None))"
   ]
  }
 ],
 "metadata": {
  "kernelspec": {
   "display_name": "Python 3 (ipykernel)",
   "language": "python",
   "name": "python3"
  },
  "language_info": {
   "codemirror_mode": {
    "name": "ipython",
    "version": 3
   },
   "file_extension": ".py",
   "mimetype": "text/x-python",
   "name": "python",
   "nbconvert_exporter": "python",
   "pygments_lexer": "ipython3",
   "version": "3.8.10"
  }
 },
 "nbformat": 4,
 "nbformat_minor": 5
}
